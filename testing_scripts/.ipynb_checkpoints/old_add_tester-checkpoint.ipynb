{
 "cells": [
  {
   "cell_type": "code",
   "execution_count": 18,
   "metadata": {},
   "outputs": [],
   "source": [
    "# test if old and new add are the same\n",
    "# this is concerning correspondence with \n",
    "import torch"
   ]
  },
  {
   "cell_type": "code",
   "execution_count": 19,
   "metadata": {},
   "outputs": [],
   "source": [
    "# contributed by @yannadani.\n",
    "def one_hot_add(inputs, shift):\n",
    "    \"\"\"Performs (inputs + shift) % vocab_size in the one-hot space.\n",
    "    Args:\n",
    "        inputs: Tensor of shape `[..., vocab_size]`. Typically a soft/hard one-hot\n",
    "        Tensor.\n",
    "        shift: Tensor of shape `[..., vocab_size]`. Typically a soft/hard one-hot\n",
    "        Tensor specifying how much to shift the corresponding one-hot vector in\n",
    "        inputs. Soft values perform a \"weighted shift\": for example,\n",
    "        shift=[0.2, 0.3, 0.5] performs a linear combination of 0.2 * shifting by\n",
    "        zero; 0.3 * shifting by one; and 0.5 * shifting by two.\n",
    "    Returns:\n",
    "        Tensor of same shape and dtype as inputs.\n",
    "    \"\"\"\n",
    "    inputs = torch.stack((inputs, torch.zeros_like(inputs)), dim = -1)\n",
    "    shift = torch.stack((shift, torch.zeros_like(shift)), dim = -1)\n",
    "    inputs_fft = torch.fft(inputs, 1) #ignore last and first dimension to do batched fft\n",
    "    shift_fft = torch.fft(shift, 1)\n",
    "    result_fft_real = inputs_fft[...,0]*shift_fft[...,0] - inputs_fft[...,1]*shift_fft[...,1]\n",
    "    result_fft_imag = inputs_fft[...,0]*shift_fft[...,1] + inputs_fft[...,1]*shift_fft[...,0]\n",
    "    result_fft = torch.stack((result_fft_real,result_fft_imag), dim = -1)\n",
    "    return torch.ifft(result_fft, 1)[...,0] #return only the real part\n",
    "\n",
    "def one_hot_add_old(inputs, shift):\n",
    "    \"\"\"Performs (inputs - shift) % vocab_size in the one-hot space.\n",
    "    Args:\n",
    "        inputs: Tensor of shape `[..., vocab_size]`. Typically a soft/hard one-hot\n",
    "        Tensor.\n",
    "        shift: Tensor of shape `[..., vocab_size]`. Typically a soft/hard one-hot\n",
    "        Tensor specifying how much to shift the corresponding one-hot vector in\n",
    "        inputs. Soft values perform a \"weighted shift\": for example,\n",
    "        shift=[0.2, 0.3, 0.5] performs a linear combination of 0.2 * shifting by\n",
    "        zero; 0.3 * shifting by one; and 0.5 * shifting by two.\n",
    "    Returns:\n",
    "        Tensor of same shape and dtype as inputs.\n",
    "    \"\"\"\n",
    "    shift = shift.type(inputs.dtype)\n",
    "    vocab_size = inputs.shape[-1]\n",
    "    # Form a [..., vocab_size, vocab_size] matrix. Each batch element of\n",
    "    # inputs will vector-matrix multiply the vocab_size x vocab_size matrix. This\n",
    "    # \"shifts\" the inputs batch element by the corresponding shift batch element.\n",
    "    shift_matrix = torch.stack([torch.roll(shift, i, dims=-1)\n",
    "                            for i in range(vocab_size)], dim=-2)\n",
    "    shift_matrix = torch.transpose(shift_matrix, -1, -2)\n",
    "    outputs = torch.einsum('...v,...uv->...u', inputs, shift_matrix)\n",
    "    return outputs"
   ]
  },
  {
   "cell_type": "code",
   "execution_count": 20,
   "metadata": {},
   "outputs": [],
   "source": [
    "inputs = torch.Tensor([[0,0,1],[0,1,0], [1,0,0]])\n",
    "shift = torch.Tensor([[0,0,1],[0,1,0], [0,0,1]])"
   ]
  },
  {
   "cell_type": "code",
   "execution_count": 23,
   "metadata": {},
   "outputs": [
    {
     "name": "stdout",
     "output_type": "stream",
     "text": [
      "79.6 µs ± 1.53 µs per loop (mean ± std. dev. of 7 runs, 10000 loops each)\n"
     ]
    }
   ],
   "source": [
    "%timeit disc_utils.one_hot_add_old(inputs, shift).long()"
   ]
  },
  {
   "cell_type": "code",
   "execution_count": 22,
   "metadata": {},
   "outputs": [
    {
     "name": "stdout",
     "output_type": "stream",
     "text": [
      "84.2 µs ± 611 ns per loop (mean ± std. dev. of 7 runs, 10000 loops each)\n"
     ]
    }
   ],
   "source": [
    "%timeit disc_utils.one_hot_add(inputs, shift).long()"
   ]
  },
  {
   "cell_type": "code",
   "execution_count": 11,
   "metadata": {},
   "outputs": [
    {
     "data": {
      "text/plain": [
       "tensor([[True, True, True],\n",
       "        [True, True, True],\n",
       "        [True, True, True]])"
      ]
     },
     "execution_count": 11,
     "metadata": {},
     "output_type": "execute_result"
    }
   ],
   "source": [
    "disc_utils.one_hot_add_old(inputs, shift).long() == disc_utils.one_hot_add(inputs, shift).long()"
   ]
  },
  {
   "cell_type": "code",
   "execution_count": null,
   "metadata": {},
   "outputs": [],
   "source": [
    "# Why are these soft shifts not working for either? "
   ]
  },
  {
   "cell_type": "code",
   "execution_count": 41,
   "metadata": {},
   "outputs": [
    {
     "name": "stdout",
     "output_type": "stream",
     "text": [
      "tensor([[0., 0., 1.],\n",
      "        [0., 1., 0.],\n",
      "        [1., 0., 0.]]) tensor([[0.0449, 0.7862, 0.1688],\n",
      "        [0.3378, 0.4390, 0.2232],\n",
      "        [0.2466, 0.2959, 0.4575]])\n"
     ]
    }
   ],
   "source": [
    "inputs = torch.Tensor([[0,0,1],[0,1,0], [1,0,0]])\n",
    "shift = torch.randn((3,3)).softmax(dim=-1)\n",
    "print(inputs, shift)"
   ]
  },
  {
   "cell_type": "code",
   "execution_count": 42,
   "metadata": {},
   "outputs": [
    {
     "data": {
      "text/plain": [
       "tensor([[0, 0, 0],\n",
       "        [0, 0, 0],\n",
       "        [0, 0, 0]])"
      ]
     },
     "execution_count": 42,
     "metadata": {},
     "output_type": "execute_result"
    }
   ],
   "source": [
    "disc_utils.one_hot_add_old(inputs, shift).long()"
   ]
  },
  {
   "cell_type": "code",
   "execution_count": 43,
   "metadata": {},
   "outputs": [
    {
     "data": {
      "text/plain": [
       "tensor([[0, 0, 0],\n",
       "        [0, 0, 0],\n",
       "        [0, 0, 0]])"
      ]
     },
     "execution_count": 43,
     "metadata": {},
     "output_type": "execute_result"
    }
   ],
   "source": [
    "disc_utils.one_hot_add(inputs, shift).long()"
   ]
  },
  {
   "cell_type": "code",
   "execution_count": null,
   "metadata": {},
   "outputs": [],
   "source": []
  }
 ],
 "metadata": {
  "kernelspec": {
   "display_name": "Python 3",
   "language": "python",
   "name": "python3"
  },
  "language_info": {
   "codemirror_mode": {
    "name": "ipython",
    "version": 3
   },
   "file_extension": ".py",
   "mimetype": "text/x-python",
   "name": "python",
   "nbconvert_exporter": "python",
   "pygments_lexer": "ipython3",
   "version": "3.7.5"
  }
 },
 "nbformat": 4,
 "nbformat_minor": 4
}
